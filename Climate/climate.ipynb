{
 "cells": [
  {
   "cell_type": "code",
   "execution_count": 22,
   "metadata": {},
   "outputs": [],
   "source": [
    "import pandas as pd\n",
    "import numpy as np\n",
    "from scipy.stats import norm\n",
    "import sympy as sym\n",
    "from scipy.optimize import fsolve\n",
    "r = 0.05\n",
    "T = 1"
   ]
  },
  {
   "cell_type": "code",
   "execution_count": 23,
   "metadata": {},
   "outputs": [],
   "source": [
    "stock = pd.read_excel(\"climate_transition_risk.xlsx\", sheet_name=0)\n",
    "company = pd.read_excel(\"climate_transition_risk.xlsx\", sheet_name=1)\n",
    "climate = pd.read_excel(\"climate_transition_risk.xlsx\", sheet_name=2)"
   ]
  },
  {
   "cell_type": "code",
   "execution_count": 24,
   "metadata": {},
   "outputs": [
    {
     "name": "stdout",
     "output_type": "stream",
     "text": [
      "3.700952038353894\n"
     ]
    }
   ],
   "source": [
    "equity_vol = stock[\"Close Price\"].std()\n",
    "e_vol_1y = equity_vol / np.sqrt(10)\n",
    "print(e_vol_1y)"
   ]
  },
  {
   "cell_type": "code",
   "execution_count": 25,
   "metadata": {},
   "outputs": [],
   "source": [
    "last_price = stock[\"Close Price\"].iloc[-1]\n",
    "last_outst = company[\"Shares Outstanding (Millions)\"].iloc[-1]\n",
    "E = last_outst * last_price\n",
    "D = 0.5*company[\"Long Term Debt (Millions)\"].iloc[-1] + company[\"Short Term Debt (Millions)\"].iloc[-1]"
   ]
  },
  {
   "cell_type": "code",
   "execution_count": 30,
   "metadata": {},
   "outputs": [
    {
     "name": "stdout",
     "output_type": "stream",
     "text": [
      "0.6914624612740131\n"
     ]
    }
   ],
   "source": [
    "def dplus(A,a_vol):\n",
    "    return (np.log(A/D) + (r+(a_vol**2))*T)/(a_vol*np.sqrt(T))\n",
    "def dminus(A,a_vol):\n",
    "    return (np.log(A/D) + (r-(a_vol**2))*T)/(a_vol*np.sqrt(T))\n",
    "\n",
    "print(norm.cdf(0.5))"
   ]
  },
  {
   "cell_type": "code",
   "execution_count": 39,
   "metadata": {},
   "outputs": [
    {
     "name": "stdout",
     "output_type": "stream",
     "text": [
      "[5.29691824e+05 3.70067217e+00]\n"
     ]
    }
   ],
   "source": [
    "asset = E + D\n",
    "def myFunction(z):\n",
    "   A = z[0]\n",
    "   vol_A = z[1]\n",
    "\n",
    "   F = np.empty((2))\n",
    "   F[0] = A*norm.cdf(dplus(A,vol_A))-np.exp(-r)*D*norm.cdf(dminus(A,vol_A))-E\n",
    "   F[1] = A*vol_A*norm.cdf(dplus(A,vol_A))-E*e_vol_1y\n",
    "   return F\n",
    "\n",
    "zGuess = np.array([asset,e_vol_1y])\n",
    "z = fsolve(myFunction,zGuess)\n",
    "print(z)\n"
   ]
  },
  {
   "cell_type": "code",
   "execution_count": 43,
   "metadata": {},
   "outputs": [
    {
     "name": "stdout",
     "output_type": "stream",
     "text": [
      "1960214.645365714 1960214.645365714\n",
      "529691.8240137097 537268.4586116 3.700672172881885 3.700952038353894\n"
     ]
    }
   ],
   "source": [
    "test1 = E*e_vol_1y\n",
    "test2 = z[0]*z[1]*norm.cdf(dplus(z[0],z[1]))\n",
    "test3 = E\n",
    "test4 = A*norm.cdf(dplus(A,vol_A))-np.exp(-r)*D*norm.cdf(dminus(A,vol_A))-E\n",
    "print(test1,test2)\n",
    "print(test3,test4)\n",
    "print(z[0],A,z[1],e_vol_1y)"
   ]
  }
 ],
 "metadata": {
  "kernelspec": {
   "display_name": "Python 3.10.8 64-bit (microsoft store)",
   "language": "python",
   "name": "python3"
  },
  "language_info": {
   "codemirror_mode": {
    "name": "ipython",
    "version": 3
   },
   "file_extension": ".py",
   "mimetype": "text/x-python",
   "name": "python",
   "nbconvert_exporter": "python",
   "pygments_lexer": "ipython3",
   "version": "3.10.8"
  },
  "orig_nbformat": 4,
  "vscode": {
   "interpreter": {
    "hash": "1d208fc92f63bff2dd80c97ffe5a57d134e87b05d2dbf0af794face5bab8487c"
   }
  }
 },
 "nbformat": 4,
 "nbformat_minor": 2
}
